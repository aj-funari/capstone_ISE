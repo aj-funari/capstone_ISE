{
 "cells": [
  {
   "cell_type": "code",
   "execution_count": 1,
   "id": "7fea0409",
   "metadata": {},
   "outputs": [
    {
     "name": "stdout",
     "output_type": "stream",
     "text": [
      "3.8.16 | packaged by conda-forge | (default, Feb  1 2023, 15:53:35) [MSC v.1929 64 bit (AMD64)]\n"
     ]
    }
   ],
   "source": [
    "import sys\n",
    "print(sys.version)"
   ]
  },
  {
   "cell_type": "code",
   "execution_count": 2,
   "id": "c2721a92",
   "metadata": {},
   "outputs": [],
   "source": [
    "# import bluetooth  # library for pybluez\n",
    "\n",
    "# nearby_devices = bluetooth.discover_devices()\n",
    "\n",
    "# for bdaddr in nearby_devices:\n",
    "#     print(bluetooth.lookup_name(bdaddr))\n",
    "#     print(f\"Found device: {bluetooth.lookup_name(bdaddr)}\")\n",
    "\n",
    "# target_address = \"A8:8F:15:63:27:D2\" # the Bluetooth address of the target device\n",
    "# port = 0x1001 # the port number of the target device\n",
    "\n",
    "# client_sock = bluetooth.BluetoothSocket(bluetooth.RFCOMM)\n",
    "# client_sock.connect((target_address, port))"
   ]
  },
  {
   "cell_type": "code",
   "execution_count": 3,
   "id": "3ff1c83b",
   "metadata": {},
   "outputs": [],
   "source": [
    "from adafruit_ble import BLERadio\n",
    "\n",
    "from adafruit_ble.advertising import Advertisement\n",
    "from adafruit_ble.advertising.standard import ProvideServicesAdvertisement"
   ]
  },
  {
   "cell_type": "code",
   "execution_count": null,
   "id": "bca8f660",
   "metadata": {},
   "outputs": [],
   "source": [
    "ble = BLERadio()\n",
    "print(\"scanning\")\n",
    "found = set()\n",
    "for entry in ble.start_scan(timeout=60, minimum_rssi=-80):\n",
    "    addr = entry.address\n",
    "    if addr not in found:\n",
    "        print(entry)\n",
    "    found.add(addr)\n",
    "\n",
    "print(\"scan done\")"
   ]
  },
  {
   "cell_type": "code",
   "execution_count": null,
   "id": "72c442d3",
   "metadata": {},
   "outputs": [],
   "source": []
  }
 ],
 "metadata": {
  "kernelspec": {
   "display_name": "Python 3",
   "language": "python",
   "name": "py3"
  },
  "language_info": {
   "codemirror_mode": {
    "name": "ipython",
    "version": 3
   },
   "file_extension": ".py",
   "mimetype": "text/x-python",
   "name": "python",
   "nbconvert_exporter": "python",
   "pygments_lexer": "ipython3",
   "version": "3.8.16"
  }
 },
 "nbformat": 4,
 "nbformat_minor": 5
}
